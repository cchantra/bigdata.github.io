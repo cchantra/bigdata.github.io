{
 "cells": [
  {
   "cell_type": "markdown",
   "metadata": {},
   "source": [
    "# Ingesting realtime tweets using Apache Kafka, Tweepy and Python\n",
    "\n",
    "### Purpose:\n",
    "- main data source for the lambda architecture pipeline\n",
    "- uses twitter streaming API to simulate new events coming in every minute\n",
    "- Kafka Producer sends the tweets as records to the Kafka Broker\n",
    "\n",
    "### Contents: \n",
    "- [Twitter setup](#1)\n",
    "- [Defining the Kafka producer](#2)\n",
    "- [Producing and sending records to the Kafka Broker](#3)\n",
    "- [Deployment](#4)"
   ]
  },
  {
   "cell_type": "markdown",
   "metadata": {},
   "source": [
    "### Required libraries"
   ]
  },
  {
   "cell_type": "code",
   "execution_count": 1,
   "metadata": {},
   "outputs": [],
   "source": [
    "import tweepy \n",
    "import time\n",
    "from kafka import KafkaConsumer, KafkaProducer"
   ]
  },
  {
   "cell_type": "markdown",
   "metadata": {},
   "source": [
    "<a id=\"1\"></a>\n",
    "### Twitter setup\n",
    "- getting the API object using authorization information\n",
    "- you can find more details on how to get the authorization here:\n",
    "https://developer.twitter.com/en/docs/basics/authentication/overview"
   ]
  },
  {
   "cell_type": "code",
   "execution_count": 18,
   "metadata": {},
   "outputs": [],
   "source": [
    "# twitter setup ## fill here\n",
    "ACCESS_TOKEN = ''\n",
    "ACCESS_SECRET = ''\n",
    "CONSUMER_KEY = ''\n",
    "CONSUMER_SECRET = ''\n",
    "\n",
    " \n",
    " "
   ]
  },
  {
   "cell_type": "code",
   "execution_count": 20,
   "metadata": {},
   "outputs": [],
   "source": [
    "\n",
    "auth = tweepy.OAuthHandler(CONSUMER_KEY, CONSUMER_SECRET)\n",
    "auth.set_access_token(ACCESS_TOKEN, ACCESS_SECRET)\n",
    "\n",
    " \n",
    "api = tweepy.API(auth) \n"
   ]
  },
  {
   "cell_type": "markdown",
   "metadata": {},
   "source": [
    "A helper function to normalize the time a tweet was created with the time of our system"
   ]
  },
  {
   "cell_type": "code",
   "execution_count": 21,
   "metadata": {},
   "outputs": [],
   "source": [
    "from datetime import datetime, timedelta\n",
    "\n",
    "def normalize_timestamp(time):\n",
    "    mytime = datetime.strptime(time, \"%Y-%m-%d %H:%M:%S\")\n",
    "    mytime += timedelta(hours=1)   # the tweets are timestamped in GMT timezone, while I am in +1 timezone\n",
    "    return (mytime.strftime(\"%Y-%m-%d %H:%M:%S\")) "
   ]
  },
  {
   "cell_type": "markdown",
   "metadata": {},
   "source": [
    "<a id=\"2\"></a>\n",
    "### Defining the Kafka producer\n",
    "- specify the Kafka Broker\n",
    "- specify the topic name\n",
    "- optional: specify partitioning strategy"
   ]
  },
  {
   "cell_type": "code",
   "execution_count": 22,
   "metadata": {},
   "outputs": [],
   "source": [
    "producer = KafkaProducer(bootstrap_servers='localhost:9092')\n",
    "topic_name = 'tweets-lambda1'"
   ]
  },
  {
   "cell_type": "markdown",
   "metadata": {},
   "source": [
    "<a id=\"3\"></a>\n",
    "### Producing and sending records to the Kafka Broker\n",
    "- querying the Twitter API Object\n",
    "- extracting relevant information from the response\n",
    "- formatting and sending the data to proper topic on the Kafka Broker\n",
    "- resulting tweets have following attributes:\n",
    "    - id \n",
    "    - created_at\n",
    "    - followers_count\n",
    "    - location\n",
    "    - favorite_count\n",
    "    - retweet_count"
   ]
  },
  {
   "cell_type": "code",
   "execution_count": 23,
   "metadata": {},
   "outputs": [],
   "source": [
    "def get_twitter_data():\n",
    "    res = api.search(\"Apple OR iphone OR iPhone\")\n",
    "    for i in res:\n",
    "        record = ''\n",
    "         \n",
    "        record += str(i.user.id_str )\n",
    "        record += ';'\n",
    "        record += str(normalize_timestamp(str(i.created_at)))\n",
    "        record += ';'\n",
    "        record += str(i.user.followers_count)\n",
    "        record += ';'      \n",
    "        record += str(i.user.location.encode('UTF-8'))\n",
    "        record += ';'\n",
    "        record += str(i.favorite_count)\n",
    "        record += ';'\n",
    "        record += str(i.retweet_count)\n",
    "        record += ';'\n",
    "        print(record)\n",
    "        producer.send(topic_name,  bytes(record,encoding='ascii')  )\n",
    "        print(record)"
   ]
  },
  {
   "cell_type": "code",
   "execution_count": 24,
   "metadata": {},
   "outputs": [
    {
     "name": "stdout",
     "output_type": "stream",
     "text": [
      "434797562;2021-04-12 17:39:33;120;b'';0;20;\n",
      "434797562;2021-04-12 17:39:33;120;b'';0;20;\n",
      "737292332;2021-04-12 17:39:33;4325;b'';0;234;\n",
      "737292332;2021-04-12 17:39:33;4325;b'';0;234;\n",
      "1358045924472156161;2021-04-12 17:39:33;63;b'\\xf0\\x9f\\x93\\xb8@akino_coto \\xe6\\xa7\\x98\\xe3\\x82\\x88\\xe3\\x82\\x8a';0;0;\n",
      "1358045924472156161;2021-04-12 17:39:33;63;b'\\xf0\\x9f\\x93\\xb8@akino_coto \\xe6\\xa7\\x98\\xe3\\x82\\x88\\xe3\\x82\\x8a';0;0;\n",
      "959897406;2021-04-12 17:39:32;726;b'New Jersey, USA';0;0;\n",
      "959897406;2021-04-12 17:39:32;726;b'New Jersey, USA';0;0;\n",
      "759239742521237505;2021-04-12 17:39:32;1224;b'Puerto Iguaz\\xc3\\xba, Argentina';0;0;\n",
      "759239742521237505;2021-04-12 17:39:32;1224;b'Puerto Iguaz\\xc3\\xba, Argentina';0;0;\n",
      "867718136;2021-04-12 17:39:32;0;b'';0;0;\n",
      "867718136;2021-04-12 17:39:32;0;b'';0;0;\n",
      "304216034;2021-04-12 17:39:32;174;b'New Orleans, LA';0;555;\n",
      "304216034;2021-04-12 17:39:32;174;b'New Orleans, LA';0;555;\n",
      "46292283;2021-04-12 17:39:32;1107;b'INDIANAPOLIS --- ATL';0;0;\n",
      "46292283;2021-04-12 17:39:32;1107;b'INDIANAPOLIS --- ATL';0;0;\n",
      "1595327870;2021-04-12 17:39:32;4482;b'middle of nowhere';0;0;\n",
      "1595327870;2021-04-12 17:39:32;4482;b'middle of nowhere';0;0;\n",
      "1264057467736072194;2021-04-12 17:39:32;64;b'';0;2533;\n",
      "1264057467736072194;2021-04-12 17:39:32;64;b'';0;2533;\n",
      "69924731;2021-04-12 17:39:32;111;b'Bay Area. ';0;0;\n",
      "69924731;2021-04-12 17:39:32;111;b'Bay Area. ';0;0;\n",
      "949947292408147969;2021-04-12 17:39:32;3;b'';0;9118;\n",
      "949947292408147969;2021-04-12 17:39:32;3;b'';0;9118;\n",
      "1633321206;2021-04-12 17:39:31;1749;b'Geburtsort: Einen a.d. Waffel';0;1;\n",
      "1633321206;2021-04-12 17:39:31;1749;b'Geburtsort: Einen a.d. Waffel';0;1;\n",
      "1100762326091816960;2021-04-12 17:39:31;35;b'';0;5;\n",
      "1100762326091816960;2021-04-12 17:39:31;35;b'';0;5;\n",
      "550617390;2021-04-12 17:39:31;329;b'\\xd8\\xad\\xd8\\xa7\\xd8\\xa6\\xd9\\x84, \\xd8\\xa7\\xd9\\x84\\xd9\\x85\\xd9\\x85\\xd9\\x84\\xd9\\x83\\xd8\\xa9 \\xd8\\xa7\\xd9\\x84\\xd8\\xb9\\xd8\\xb1\\xd8\\xa8\\xd9\\x8a\\xd8\\xa9 \\xd8\\xa7\\xd9\\x84\\xd8\\xb3\\xd8\\xb9\\xd9\\x88\\xd8\\xaf\\xd9\\x8a\\xd8\\xa9';0;219;\n",
      "550617390;2021-04-12 17:39:31;329;b'\\xd8\\xad\\xd8\\xa7\\xd8\\xa6\\xd9\\x84, \\xd8\\xa7\\xd9\\x84\\xd9\\x85\\xd9\\x85\\xd9\\x84\\xd9\\x83\\xd8\\xa9 \\xd8\\xa7\\xd9\\x84\\xd8\\xb9\\xd8\\xb1\\xd8\\xa8\\xd9\\x8a\\xd8\\xa9 \\xd8\\xa7\\xd9\\x84\\xd8\\xb3\\xd8\\xb9\\xd9\\x88\\xd8\\xaf\\xd9\\x8a\\xd8\\xa9';0;219;\n"
     ]
    }
   ],
   "source": [
    "get_twitter_data()"
   ]
  },
  {
   "cell_type": "markdown",
   "metadata": {},
   "source": [
    "<a id=\"4\"></a>\n",
    "### Deployment \n",
    "- perform the task every couple of minutes and wait in between"
   ]
  },
  {
   "cell_type": "code",
   "execution_count": 25,
   "metadata": {},
   "outputs": [],
   "source": [
    "def periodic_work(interval):\n",
    "    while True:\n",
    "        get_twitter_data()\n",
    "        #interval should be an integer, the number of seconds to wait\n",
    "        time.sleep(interval)\n"
   ]
  },
  {
   "cell_type": "code",
   "execution_count": 26,
   "metadata": {},
   "outputs": [
    {
     "name": "stdout",
     "output_type": "stream",
     "text": [
      "434797562;2021-04-12 17:39:33;120;b'';0;20;\n",
      "434797562;2021-04-12 17:39:33;120;b'';0;20;\n",
      "737292332;2021-04-12 17:39:33;4325;b'';0;234;\n",
      "737292332;2021-04-12 17:39:33;4325;b'';0;234;\n",
      "1358045924472156161;2021-04-12 17:39:33;63;b'\\xf0\\x9f\\x93\\xb8@akino_coto \\xe6\\xa7\\x98\\xe3\\x82\\x88\\xe3\\x82\\x8a';0;0;\n",
      "1358045924472156161;2021-04-12 17:39:33;63;b'\\xf0\\x9f\\x93\\xb8@akino_coto \\xe6\\xa7\\x98\\xe3\\x82\\x88\\xe3\\x82\\x8a';0;0;\n",
      "959897406;2021-04-12 17:39:32;726;b'New Jersey, USA';0;0;\n",
      "959897406;2021-04-12 17:39:32;726;b'New Jersey, USA';0;0;\n",
      "759239742521237505;2021-04-12 17:39:32;1224;b'Puerto Iguaz\\xc3\\xba, Argentina';0;0;\n",
      "759239742521237505;2021-04-12 17:39:32;1224;b'Puerto Iguaz\\xc3\\xba, Argentina';0;0;\n",
      "867718136;2021-04-12 17:39:32;0;b'';0;0;\n",
      "867718136;2021-04-12 17:39:32;0;b'';0;0;\n",
      "304216034;2021-04-12 17:39:32;174;b'New Orleans, LA';0;556;\n",
      "304216034;2021-04-12 17:39:32;174;b'New Orleans, LA';0;556;\n",
      "46292283;2021-04-12 17:39:32;1107;b'INDIANAPOLIS --- ATL';0;0;\n",
      "46292283;2021-04-12 17:39:32;1107;b'INDIANAPOLIS --- ATL';0;0;\n",
      "1595327870;2021-04-12 17:39:32;4482;b'middle of nowhere';0;1;\n",
      "1595327870;2021-04-12 17:39:32;4482;b'middle of nowhere';0;1;\n",
      "1264057467736072194;2021-04-12 17:39:32;64;b'';0;2533;\n",
      "1264057467736072194;2021-04-12 17:39:32;64;b'';0;2533;\n",
      "69924731;2021-04-12 17:39:32;111;b'Bay Area. ';0;0;\n",
      "69924731;2021-04-12 17:39:32;111;b'Bay Area. ';0;0;\n",
      "949947292408147969;2021-04-12 17:39:32;3;b'';0;9120;\n",
      "949947292408147969;2021-04-12 17:39:32;3;b'';0;9120;\n",
      "1633321206;2021-04-12 17:39:31;1749;b'Geburtsort: Einen a.d. Waffel';0;1;\n",
      "1633321206;2021-04-12 17:39:31;1749;b'Geburtsort: Einen a.d. Waffel';0;1;\n",
      "1100762326091816960;2021-04-12 17:39:31;35;b'';0;5;\n",
      "1100762326091816960;2021-04-12 17:39:31;35;b'';0;5;\n",
      "550617390;2021-04-12 17:39:31;329;b'\\xd8\\xad\\xd8\\xa7\\xd8\\xa6\\xd9\\x84, \\xd8\\xa7\\xd9\\x84\\xd9\\x85\\xd9\\x85\\xd9\\x84\\xd9\\x83\\xd8\\xa9 \\xd8\\xa7\\xd9\\x84\\xd8\\xb9\\xd8\\xb1\\xd8\\xa8\\xd9\\x8a\\xd8\\xa9 \\xd8\\xa7\\xd9\\x84\\xd8\\xb3\\xd8\\xb9\\xd9\\x88\\xd8\\xaf\\xd9\\x8a\\xd8\\xa9';0;219;\n",
      "550617390;2021-04-12 17:39:31;329;b'\\xd8\\xad\\xd8\\xa7\\xd8\\xa6\\xd9\\x84, \\xd8\\xa7\\xd9\\x84\\xd9\\x85\\xd9\\x85\\xd9\\x84\\xd9\\x83\\xd8\\xa9 \\xd8\\xa7\\xd9\\x84\\xd8\\xb9\\xd8\\xb1\\xd8\\xa8\\xd9\\x8a\\xd8\\xa9 \\xd8\\xa7\\xd9\\x84\\xd8\\xb3\\xd8\\xb9\\xd9\\x88\\xd8\\xaf\\xd9\\x8a\\xd8\\xa9';0;219;\n",
      "434797562;2021-04-12 17:39:33;120;b'';0;20;\n",
      "434797562;2021-04-12 17:39:33;120;b'';0;20;\n",
      "737292332;2021-04-12 17:39:33;4325;b'';0;234;\n",
      "737292332;2021-04-12 17:39:33;4325;b'';0;234;\n",
      "1358045924472156161;2021-04-12 17:39:33;63;b'\\xf0\\x9f\\x93\\xb8@akino_coto \\xe6\\xa7\\x98\\xe3\\x82\\x88\\xe3\\x82\\x8a';0;0;\n",
      "1358045924472156161;2021-04-12 17:39:33;63;b'\\xf0\\x9f\\x93\\xb8@akino_coto \\xe6\\xa7\\x98\\xe3\\x82\\x88\\xe3\\x82\\x8a';0;0;\n",
      "959897406;2021-04-12 17:39:32;726;b'New Jersey, USA';0;0;\n",
      "959897406;2021-04-12 17:39:32;726;b'New Jersey, USA';0;0;\n",
      "759239742521237505;2021-04-12 17:39:32;1224;b'Puerto Iguaz\\xc3\\xba, Argentina';0;0;\n",
      "759239742521237505;2021-04-12 17:39:32;1224;b'Puerto Iguaz\\xc3\\xba, Argentina';0;0;\n",
      "867718136;2021-04-12 17:39:32;0;b'';0;0;\n",
      "867718136;2021-04-12 17:39:32;0;b'';0;0;\n",
      "304216034;2021-04-12 17:39:32;174;b'New Orleans, LA';0;556;\n",
      "304216034;2021-04-12 17:39:32;174;b'New Orleans, LA';0;556;\n",
      "46292283;2021-04-12 17:39:32;1107;b'INDIANAPOLIS --- ATL';0;0;\n",
      "46292283;2021-04-12 17:39:32;1107;b'INDIANAPOLIS --- ATL';0;0;\n",
      "1595327870;2021-04-12 17:39:32;4482;b'middle of nowhere';0;1;\n",
      "1595327870;2021-04-12 17:39:32;4482;b'middle of nowhere';0;1;\n",
      "1264057467736072194;2021-04-12 17:39:32;64;b'';0;2534;\n",
      "1264057467736072194;2021-04-12 17:39:32;64;b'';0;2534;\n",
      "69924731;2021-04-12 17:39:32;111;b'Bay Area. ';0;0;\n",
      "69924731;2021-04-12 17:39:32;111;b'Bay Area. ';0;0;\n",
      "949947292408147969;2021-04-12 17:39:32;3;b'';0;9118;\n",
      "949947292408147969;2021-04-12 17:39:32;3;b'';0;9118;\n",
      "1633321206;2021-04-12 17:39:31;1749;b'Geburtsort: Einen a.d. Waffel';0;1;\n",
      "1633321206;2021-04-12 17:39:31;1749;b'Geburtsort: Einen a.d. Waffel';0;1;\n",
      "1100762326091816960;2021-04-12 17:39:31;35;b'';0;5;\n",
      "1100762326091816960;2021-04-12 17:39:31;35;b'';0;5;\n",
      "550617390;2021-04-12 17:39:31;329;b'\\xd8\\xad\\xd8\\xa7\\xd8\\xa6\\xd9\\x84, \\xd8\\xa7\\xd9\\x84\\xd9\\x85\\xd9\\x85\\xd9\\x84\\xd9\\x83\\xd8\\xa9 \\xd8\\xa7\\xd9\\x84\\xd8\\xb9\\xd8\\xb1\\xd8\\xa8\\xd9\\x8a\\xd8\\xa9 \\xd8\\xa7\\xd9\\x84\\xd8\\xb3\\xd8\\xb9\\xd9\\x88\\xd8\\xaf\\xd9\\x8a\\xd8\\xa9';0;219;\n",
      "550617390;2021-04-12 17:39:31;329;b'\\xd8\\xad\\xd8\\xa7\\xd8\\xa6\\xd9\\x84, \\xd8\\xa7\\xd9\\x84\\xd9\\x85\\xd9\\x85\\xd9\\x84\\xd9\\x83\\xd8\\xa9 \\xd8\\xa7\\xd9\\x84\\xd8\\xb9\\xd8\\xb1\\xd8\\xa8\\xd9\\x8a\\xd8\\xa9 \\xd8\\xa7\\xd9\\x84\\xd8\\xb3\\xd8\\xb9\\xd9\\x88\\xd8\\xaf\\xd9\\x8a\\xd8\\xa9';0;219;\n"
     ]
    },
    {
     "ename": "KeyboardInterrupt",
     "evalue": "",
     "output_type": "error",
     "traceback": [
      "\u001b[0;31m---------------------------------------------------------------------------\u001b[0m",
      "\u001b[0;31mKeyboardInterrupt\u001b[0m                         Traceback (most recent call last)",
      "\u001b[0;32m<ipython-input-26-809bd0f7972b>\u001b[0m in \u001b[0;36m<module>\u001b[0;34m\u001b[0m\n\u001b[0;32m----> 1\u001b[0;31m \u001b[0mperiodic_work\u001b[0m\u001b[0;34m(\u001b[0m\u001b[0;36m60\u001b[0m \u001b[0;34m*\u001b[0m \u001b[0;36m0.1\u001b[0m\u001b[0;34m)\u001b[0m  \u001b[0;31m# get data every couple of minutes\u001b[0m\u001b[0;34m\u001b[0m\u001b[0;34m\u001b[0m\u001b[0m\n\u001b[0m",
      "\u001b[0;32m<ipython-input-25-5443c491c3b7>\u001b[0m in \u001b[0;36mperiodic_work\u001b[0;34m(interval)\u001b[0m\n\u001b[1;32m      3\u001b[0m         \u001b[0mget_twitter_data\u001b[0m\u001b[0;34m(\u001b[0m\u001b[0;34m)\u001b[0m\u001b[0;34m\u001b[0m\u001b[0;34m\u001b[0m\u001b[0m\n\u001b[1;32m      4\u001b[0m         \u001b[0;31m#interval should be an integer, the number of seconds to wait\u001b[0m\u001b[0;34m\u001b[0m\u001b[0;34m\u001b[0m\u001b[0;34m\u001b[0m\u001b[0m\n\u001b[0;32m----> 5\u001b[0;31m         \u001b[0mtime\u001b[0m\u001b[0;34m.\u001b[0m\u001b[0msleep\u001b[0m\u001b[0;34m(\u001b[0m\u001b[0minterval\u001b[0m\u001b[0;34m)\u001b[0m\u001b[0;34m\u001b[0m\u001b[0;34m\u001b[0m\u001b[0m\n\u001b[0m",
      "\u001b[0;31mKeyboardInterrupt\u001b[0m: "
     ]
    }
   ],
   "source": [
    "periodic_work(60 * 0.1)  # get data every couple of minutes"
   ]
  },
  {
   "cell_type": "code",
   "execution_count": null,
   "metadata": {},
   "outputs": [],
   "source": []
  }
 ],
 "metadata": {
  "kernelspec": {
   "display_name": "Python 3",
   "language": "python",
   "name": "python3"
  },
  "language_info": {
   "codemirror_mode": {
    "name": "ipython",
    "version": 3
   },
   "file_extension": ".py",
   "mimetype": "text/x-python",
   "name": "python",
   "nbconvert_exporter": "python",
   "pygments_lexer": "ipython3",
   "version": "3.8.5"
  }
 },
 "nbformat": 4,
 "nbformat_minor": 2
}
