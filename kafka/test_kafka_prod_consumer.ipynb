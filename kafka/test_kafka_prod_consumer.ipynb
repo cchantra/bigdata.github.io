{
 "cells": [
  {
   "cell_type": "code",
   "execution_count": 6,
   "metadata": {},
   "outputs": [],
   "source": [
    "import json\n",
    "from time import sleep\n",
    "\n",
    "from bs4 import BeautifulSoup"
   ]
  },
  {
   "cell_type": "code",
   "execution_count": 7,
   "metadata": {},
   "outputs": [],
   "source": [
    "\n",
    "from kafka import KafkaConsumer, KafkaProducer"
   ]
  },
  {
   "cell_type": "markdown",
   "metadata": {},
   "source": [
    "First it will consume data from raw_recipes topic, parse and transform data into JSON and then will publish it in parsed_recipes topic. Below is the code that will fetch HTML data from raw_recipes topic, parse and then feed into parsed_recipes topic."
   ]
  },
  {
   "cell_type": "code",
   "execution_count": 8,
   "metadata": {},
   "outputs": [],
   "source": [
    "def publish_message(producer_instance, topic_name, key, value):\n",
    "    try:\n",
    "        key_bytes = bytes(key, encoding='utf-8') \n",
    "        value_bytes = bytes(value, encoding='utf-8') \n",
    "        producer_instance.send(topic_name, key=key_bytes, value=value_bytes)\n",
    "        producer_instance.flush()\n",
    "        print('Message published successfully (producer).')\n",
    "    except Exception as ex:\n",
    "        print('Exception in publishing message')\n",
    "        print(str(ex))\n",
    "\n",
    "\n",
    "def connect_kafka_producer():\n",
    "    _producer = None\n",
    "    try:\n",
    "        _producer = KafkaProducer(bootstrap_servers=['localhost:9092'], api_version=(0, 10))\n",
    "    except Exception as ex:\n",
    "        print('Exception while connecting Kafka')\n",
    "        print(str(ex))\n",
    "    finally:\n",
    "        return _producer\n",
    "\n",
    "\n",
    "def parse(markup):\n",
    "    title = '-'\n",
    "    submit_by = '-'\n",
    "    description = '-'\n",
    "    calories = 0\n",
    "    ingredients = []\n",
    "    rec = {}\n",
    "\n",
    "    try:\n",
    "\n",
    "        soup = BeautifulSoup(markup, 'lxml')\n",
    "        # title\n",
    "        title_section = soup.select('.recipe-title')\n",
    "        # submitter\n",
    "        #submitter_section = soup.select('.submitter__name')\n",
    "        # description\n",
    "        #description_section = soup.select('.submitter__description')\n",
    "        # ingredients\n",
    "        ingredients_section = soup.select('.ingredients-item-name')\n",
    "\n",
    "        # calories\n",
    "        nutrition_section = soup.select('.recipe-nutrition-section .section-body')#soup.select('.calorie-count')\n",
    "        nutrition_section = [s  for div in nutrition_section for s in div.stripped_strings]\n",
    "        print(nutrition_section)\n",
    "        if nutrition_section:\n",
    "            #calories = calories_section[0].text.replace('cals', '').strip()\n",
    "            calories = nutrition_section[0].split(';')[0]\n",
    "        \n",
    "        if ingredients_section:\n",
    "            for ingredient in ingredients_section:\n",
    "                ingredient_text = ingredient.text.strip()\n",
    "                if 'Add all ingredients to list' not in ingredient_text and ingredient_text != '':\n",
    "                    ingredients.append({'step': ingredient.text.strip()})\n",
    "\n",
    "        #if description_section:\n",
    "        #    description = description_section[0].text.strip().replace('\"', '')\n",
    "\n",
    "        #if submitter_section:\n",
    "        #    submit_by = submitter_section[0].text.strip()\n",
    "\n",
    "        if title_section:\n",
    "            title = title_section[0].text\n",
    "\n",
    "        rec = {'title': title,  'calories': calories,\n",
    "               'ingredients': ingredients}\n",
    "        print(rec)\n",
    "    except Exception as ex:\n",
    "        print('Exception while parsing')\n",
    "        print(str(ex))\n",
    "    finally:\n",
    "        return json.dumps(rec)\n",
    "\n",
    "\n"
   ]
  },
  {
   "cell_type": "code",
   "execution_count": 9,
   "metadata": {},
   "outputs": [
    {
     "name": "stdout",
     "output_type": "stream",
     "text": [
      "Running Consumer..\n",
      "['817 calories; protein 8.4g; carbohydrates 144.3g; fat 26g; sodium 458.4mg.', 'Full Nutrition']\n",
      "{'title': 'Thai Sweet Sticky Rice With Mango (Khao Neeo Mamuang)', 'calories': '817 calories', 'ingredients': [{'step': '2 cups water'}, {'step': '1\\u2009½ cups uncooked short-grain white rice'}, {'step': '1\\u2009½ cups coconut milk, divided'}, {'step': '1 cup white sugar'}, {'step': '¾ teaspoon salt, divided'}, {'step': '1 tablespoon white sugar'}, {'step': '1 tablespoon tapioca starch'}, {'step': '3 mangos, peeled and sliced'}, {'step': '1 tablespoon toasted sesame seeds'}]}\n",
      "{\"title\": \"Thai Sweet Sticky Rice With Mango (Khao Neeo Mamuang)\", \"calories\": \"817 calories\", \"ingredients\": [{\"step\": \"2 cups water\"}, {\"step\": \"1\\u2009\\u00bd cups uncooked short-grain white rice\"}, {\"step\": \"1\\u2009\\u00bd cups coconut milk, divided\"}, {\"step\": \"1 cup white sugar\"}, {\"step\": \"\\u00be teaspoon salt, divided\"}, {\"step\": \"1 tablespoon white sugar\"}, {\"step\": \"1 tablespoon tapioca starch\"}, {\"step\": \"3 mangos, peeled and sliced\"}, {\"step\": \"1 tablespoon toasted sesame seeds\"}]}\n",
      "['817 calories; protein 8.4g; carbohydrates 144.3g; fat 26g; sodium 458.4mg.', 'Full Nutrition']\n",
      "{'title': 'Thai Sweet Sticky Rice With Mango (Khao Neeo Mamuang)', 'calories': '817 calories', 'ingredients': [{'step': '2 cups water'}, {'step': '1\\u2009½ cups uncooked short-grain white rice'}, {'step': '1\\u2009½ cups coconut milk, divided'}, {'step': '1 cup white sugar'}, {'step': '¾ teaspoon salt, divided'}, {'step': '1 tablespoon white sugar'}, {'step': '1 tablespoon tapioca starch'}, {'step': '3 mangos, peeled and sliced'}, {'step': '1 tablespoon toasted sesame seeds'}]}\n",
      "{\"title\": \"Thai Sweet Sticky Rice With Mango (Khao Neeo Mamuang)\", \"calories\": \"817 calories\", \"ingredients\": [{\"step\": \"2 cups water\"}, {\"step\": \"1\\u2009\\u00bd cups uncooked short-grain white rice\"}, {\"step\": \"1\\u2009\\u00bd cups coconut milk, divided\"}, {\"step\": \"1 cup white sugar\"}, {\"step\": \"\\u00be teaspoon salt, divided\"}, {\"step\": \"1 tablespoon white sugar\"}, {\"step\": \"1 tablespoon tapioca starch\"}, {\"step\": \"3 mangos, peeled and sliced\"}, {\"step\": \"1 tablespoon toasted sesame seeds\"}]}\n",
      "['525 calories; protein 5.7g; carbohydrates 96.4g; fat 14.1g; sodium 110.6mg.', 'Full Nutrition']\n",
      "{'title': 'Sweet Sticky Rice with Mangoes', 'calories': '525 calories', 'ingredients': [{'step': '2 cups uncooked glutinous (sticky) white rice, rinsed'}, {'step': '1 (13.5 ounce) can coconut milk, divided'}, {'step': '1 cup white sugar'}, {'step': '1 tablespoon white sugar'}, {'step': '¼ teaspoon salt'}, {'step': '¾ teaspoon cornstarch'}, {'step': '2 ripe mangoes, peeled and cubed'}]}\n",
      "{\"title\": \"Sweet Sticky Rice with Mangoes\", \"calories\": \"525 calories\", \"ingredients\": [{\"step\": \"2 cups uncooked glutinous (sticky) white rice, rinsed\"}, {\"step\": \"1 (13.5 ounce) can coconut milk, divided\"}, {\"step\": \"1 cup white sugar\"}, {\"step\": \"1 tablespoon white sugar\"}, {\"step\": \"\\u00bc teaspoon salt\"}, {\"step\": \"\\u00be teaspoon cornstarch\"}, {\"step\": \"2 ripe mangoes, peeled and cubed\"}]}\n",
      "['525 calories; protein 5.7g; carbohydrates 96.4g; fat 14.1g; sodium 110.6mg.', 'Full Nutrition']\n",
      "{'title': 'Sweet Sticky Rice with Mangoes', 'calories': '525 calories', 'ingredients': [{'step': '2 cups uncooked glutinous (sticky) white rice, rinsed'}, {'step': '1 (13.5 ounce) can coconut milk, divided'}, {'step': '1 cup white sugar'}, {'step': '1 tablespoon white sugar'}, {'step': '¼ teaspoon salt'}, {'step': '¾ teaspoon cornstarch'}, {'step': '2 ripe mangoes, peeled and cubed'}]}\n",
      "{\"title\": \"Sweet Sticky Rice with Mangoes\", \"calories\": \"525 calories\", \"ingredients\": [{\"step\": \"2 cups uncooked glutinous (sticky) white rice, rinsed\"}, {\"step\": \"1 (13.5 ounce) can coconut milk, divided\"}, {\"step\": \"1 cup white sugar\"}, {\"step\": \"1 tablespoon white sugar\"}, {\"step\": \"\\u00bc teaspoon salt\"}, {\"step\": \"\\u00be teaspoon cornstarch\"}, {\"step\": \"2 ripe mangoes, peeled and cubed\"}]}\n",
      "Publishing records..\n",
      "Message published successfully (producer).\n",
      "Message published successfully (producer).\n",
      "Message published successfully (producer).\n",
      "Message published successfully (producer).\n"
     ]
    }
   ],
   "source": [
    "if __name__ == '__main__':\n",
    "    print('Running Consumer..')\n",
    "    parsed_records = []\n",
    "    topic_name = 'raw_recipes'\n",
    "    parsed_topic_name = 'parsed_recipes'\n",
    "\n",
    "    consumer = KafkaConsumer(topic_name, auto_offset_reset='earliest',\n",
    "                             bootstrap_servers=['localhost:9092'], api_version=(0, 10), consumer_timeout_ms=1000)\n",
    "    for msg in consumer:\n",
    "        html = msg.value\n",
    "        result = parse(html)\n",
    "        print (result)\n",
    "        parsed_records.append(result)\n",
    "    consumer.close()\n",
    "    sleep(5)\n",
    "\n",
    "    if len(parsed_records) > 0:\n",
    "        print('Publishing records..')\n",
    "        producer = connect_kafka_producer()\n",
    "        for rec in parsed_records:\n",
    "            publish_message(producer, parsed_topic_name, 'parsed', rec)"
   ]
  },
  {
   "cell_type": "markdown",
   "metadata": {},
   "source": [
    "you may delete buffer topic:\n",
    "\n",
    "bin/kafka-topics.sh --zookeeper localhost:2181 --delete --topic parsed_recipes\n"
   ]
  },
  {
   "cell_type": "code",
   "execution_count": 10,
   "metadata": {},
   "outputs": [
    {
     "name": "stdout",
     "output_type": "stream",
     "text": [
      "{'title': 'Thai Sweet Sticky Rice With Mango (Khao Neeo Mamuang)', 'calories': '817 calories', 'ingredients': [{'step': '2 cups water'}, {'step': '1\\u2009½ cups uncooked short-grain white rice'}, {'step': '1\\u2009½ cups coconut milk, divided'}, {'step': '1 cup white sugar'}, {'step': '¾ teaspoon salt, divided'}, {'step': '1 tablespoon white sugar'}, {'step': '1 tablespoon tapioca starch'}, {'step': '3 mangos, peeled and sliced'}, {'step': '1 tablespoon toasted sesame seeds'}]}\n",
      "Alert: Thai Sweet Sticky Rice With Mango (Khao Neeo Mamuang) calories count is 817\n",
      "{'title': 'Thai Sweet Sticky Rice With Mango (Khao Neeo Mamuang)', 'calories': '817 calories', 'ingredients': [{'step': '2 cups water'}, {'step': '1\\u2009½ cups uncooked short-grain white rice'}, {'step': '1\\u2009½ cups coconut milk, divided'}, {'step': '1 cup white sugar'}, {'step': '¾ teaspoon salt, divided'}, {'step': '1 tablespoon white sugar'}, {'step': '1 tablespoon tapioca starch'}, {'step': '3 mangos, peeled and sliced'}, {'step': '1 tablespoon toasted sesame seeds'}]}\n",
      "Alert: Thai Sweet Sticky Rice With Mango (Khao Neeo Mamuang) calories count is 817\n",
      "{'title': 'Sweet Sticky Rice with Mangoes', 'calories': '525 calories', 'ingredients': [{'step': '2 cups uncooked glutinous (sticky) white rice, rinsed'}, {'step': '1 (13.5 ounce) can coconut milk, divided'}, {'step': '1 cup white sugar'}, {'step': '1 tablespoon white sugar'}, {'step': '¼ teaspoon salt'}, {'step': '¾ teaspoon cornstarch'}, {'step': '2 ripe mangoes, peeled and cubed'}]}\n",
      "Alert: Sweet Sticky Rice with Mangoes calories count is 525\n",
      "{'title': 'Sweet Sticky Rice with Mangoes', 'calories': '525 calories', 'ingredients': [{'step': '2 cups uncooked glutinous (sticky) white rice, rinsed'}, {'step': '1 (13.5 ounce) can coconut milk, divided'}, {'step': '1 cup white sugar'}, {'step': '1 tablespoon white sugar'}, {'step': '¼ teaspoon salt'}, {'step': '¾ teaspoon cornstarch'}, {'step': '2 ripe mangoes, peeled and cubed'}]}\n",
      "Alert: Sweet Sticky Rice with Mangoes calories count is 525\n"
     ]
    }
   ],
   "source": [
    "import json\n",
    "from time import sleep\n",
    "\n",
    "from kafka import KafkaConsumer\n",
    "\n",
    "if __name__ == '__main__':\n",
    "    parsed_topic_name = 'parsed_recipes'\n",
    "    # Notify if a recipe has more than 200 calories\n",
    "    calories_threshold = 200\n",
    "\n",
    "    consumer = KafkaConsumer(parsed_topic_name, auto_offset_reset='earliest',\n",
    "                             bootstrap_servers=['localhost:9092'], api_version=(0, 10), consumer_timeout_ms=1000)\n",
    "    for msg in consumer:\n",
    "        record = json.loads(msg.value)\n",
    "        print(record)\n",
    "         \n",
    "        calories =  int(record['calories'].split(' ')[0])\n",
    "        title = record['title']\n",
    "\n",
    "        if calories > calories_threshold:\n",
    "            print('Alert: {} calories count is {}'.format(title, calories))\n",
    "        sleep(3)\n",
    "\n",
    "    if consumer is not None:\n",
    "        consumer.close()"
   ]
  },
  {
   "cell_type": "code",
   "execution_count": null,
   "metadata": {},
   "outputs": [],
   "source": []
  }
 ],
 "metadata": {
  "kernelspec": {
   "display_name": "Python 3",
   "language": "python",
   "name": "python3"
  },
  "language_info": {
   "codemirror_mode": {
    "name": "ipython",
    "version": 3
   },
   "file_extension": ".py",
   "mimetype": "text/x-python",
   "name": "python",
   "nbconvert_exporter": "python",
   "pygments_lexer": "ipython3",
   "version": "3.8.5"
  }
 },
 "nbformat": 4,
 "nbformat_minor": 2
}
