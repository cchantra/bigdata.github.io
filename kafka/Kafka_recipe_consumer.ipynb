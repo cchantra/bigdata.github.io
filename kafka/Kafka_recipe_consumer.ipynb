{
 "cells": [
  {
   "cell_type": "code",
   "execution_count": 1,
   "metadata": {},
   "outputs": [],
   "source": [
    "from kafka import KafkaConsumer\n",
    "from bs4 import BeautifulSoup\n",
    "import json\n",
    "import requests"
   ]
  },
  {
   "cell_type": "code",
   "execution_count": 2,
   "metadata": {},
   "outputs": [],
   "source": [
    "def get(url):\n",
    "    res = requests.get(url)\n",
    "    if res.status_code == 200:\n",
    "        return res.text.strip()\n",
    "    else:\n",
    "        return ''"
   ]
  },
  {
   "cell_type": "code",
   "execution_count": 5,
   "metadata": {
    "scrolled": true
   },
   "outputs": [],
   "source": [
    "def parse(html):\n",
    "    soup = BeautifulSoup(html, 'html.parser')\n",
    "    \n",
    "    title_section = soup.select('.recipe-summary__h1')\n",
    "    calories_section = soup.select('.calorie-count')\n",
    "    submitter_section = soup.select('.submitter__name')\n",
    "    description_section = soup.select('.submitter__description')\n",
    "    ingredients_section = soup.select('.recipe-ingred_txt')\n",
    "    \n",
    "    if calories_section:\n",
    "            calories = calories_section[0].text.strip().replace(' cals', '')\n",
    "\n",
    "    ingreds = []\n",
    "    if ingredients_section:\n",
    "        for ingredient in ingredients_section:\n",
    "            ingredient_text = ingredient.text.strip()\n",
    "            if 'Add all ingredients to list' not in ingredient_text and ingredient_text != '':\n",
    "                ingreds.append({'step': ingredient.text.strip()})\n",
    "\n",
    "    if description_section:\n",
    "        description = description_section[0].text.strip().replace('\"', '')\n",
    "\n",
    "    if submitter_section:\n",
    "        submit_by = submitter_section[0].text.strip()\n",
    "\n",
    "    if title_section:\n",
    "        title = title_section[0].text.strip()\n",
    "\n",
    "    if title != \"-\":\n",
    "        rec = {'title': title, 'submitter': submit_by, 'description': description, 'calories': calories,\n",
    "                   'ingredients': ingreds}\n",
    "    else:\n",
    "        rec = {}\n",
    "    \n",
    "    return json.dumps(rec, indent=4)"
   ]
  },
  {
   "cell_type": "code",
   "execution_count": 6,
   "metadata": {
    "scrolled": false
   },
   "outputs": [],
   "source": [
    "consumer = KafkaConsumer('recipe',\n",
    "                         auto_offset_reset='earliest',\n",
    "                         bootstrap_servers=['localhost:9092'],\n",
    "                         api_version=(0, 10),\n",
    "                         consumer_timeout_ms=1000)\n",
    "\n",
    "for msg in consumer:\n",
    "    url = msg.value\n",
    "    result = parse(get(url))\n",
    "    if result != \"{}\":\n",
    "        print (result)"
   ]
  },
  {
   "cell_type": "code",
   "execution_count": null,
   "metadata": {},
   "outputs": [],
   "source": []
  }
 ],
 "metadata": {
  "kernelspec": {
   "display_name": "Python 3",
   "language": "python",
   "name": "python3"
  },
  "language_info": {
   "codemirror_mode": {
    "name": "ipython",
    "version": 3
   },
   "file_extension": ".py",
   "mimetype": "text/x-python",
   "name": "python",
   "nbconvert_exporter": "python",
   "pygments_lexer": "ipython3",
   "version": "3.8.5"
  }
 },
 "nbformat": 4,
 "nbformat_minor": 4
}
