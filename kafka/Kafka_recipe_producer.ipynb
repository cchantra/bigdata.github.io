{
 "cells": [
  {
   "cell_type": "code",
   "execution_count": 1,
   "metadata": {},
   "outputs": [],
   "source": [
    "from kafka import KafkaProducer\n",
    "from bs4 import BeautifulSoup\n",
    "import requests"
   ]
  },
  {
   "cell_type": "code",
   "execution_count": 2,
   "metadata": {},
   "outputs": [],
   "source": [
    "def connect_kafka_producer():\n",
    "    producer = None\n",
    "    try:\n",
    "        producer = KafkaProducer(bootstrap_servers=['localhost:9092'], api_version=(0, 10))\n",
    "    except Exception as ex:\n",
    "        print('Exception while connecting Kafka', producer)\n",
    "    finally:\n",
    "        return producer"
   ]
  },
  {
   "cell_type": "code",
   "execution_count": 3,
   "metadata": {},
   "outputs": [],
   "source": [
    "PRODUCER = connect_kafka_producer()"
   ]
  },
  {
   "cell_type": "code",
   "execution_count": 4,
   "metadata": {},
   "outputs": [],
   "source": [
    "def publish_message(topic_name, key, value):\n",
    "    try:\n",
    "        key =  bytes(key, encoding='utf-8')\n",
    "        value = bytes(value, encoding='utf-8')\n",
    "        \n",
    "        PRODUCER.send(topic_name, key=key, value=value)\n",
    "        PRODUCER.flush()\n",
    "        print('Published: {} {}'.format(key, value.decode('utf-8')))\n",
    "    except Exception as ex:\n",
    "        print(str(ex))"
   ]
  },
  {
   "cell_type": "code",
   "execution_count": 5,
   "metadata": {},
   "outputs": [],
   "source": [
    "def get(url):\n",
    "    res = requests.get(url)\n",
    "    if res.status_code == 200:\n",
    "        return res.text.strip()\n",
    "    else:\n",
    "        return ''"
   ]
  },
  {
   "cell_type": "code",
   "execution_count": 6,
   "metadata": {},
   "outputs": [],
   "source": [
    "def parse(html, select):\n",
    "    parser = BeautifulSoup(html, 'html.parser')\n",
    "    links = parser.select(select)\n",
    "    return links"
   ]
  },
  {
   "cell_type": "code",
   "execution_count": 7,
   "metadata": {},
   "outputs": [],
   "source": [
    "def scrape_recipes(url):    \n",
    "    html = get(url)\n",
    "    links = [a['href'] for a in parse(html, select='.fixed-recipe-card__h3 a')]\n",
    "    \n",
    "    nutrs = []\n",
    "    for link in links:\n",
    "        soup = BeautifulSoup(get(link), 'html.parser')\n",
    "        maybe_cal = soup.find(itemprop='calories')\n",
    "        if maybe_cal is not None:\n",
    "            cal = maybe_cal.get_text().split(' ')[0]\n",
    "            if int(cal) < 400:\n",
    "                publish_message('recipe', 'parsed', link)\n",
    "            \n",
    "    return nutrs"
   ]
  },
  {
   "cell_type": "code",
   "execution_count": 8,
   "metadata": {},
   "outputs": [],
   "source": [
    "recipes = scrape_recipes('https://www.allrecipes.com/recipes/23014/world-cuisine/asian/thai/desserts')"
   ]
  },
  {
   "cell_type": "code",
   "execution_count": null,
   "metadata": {},
   "outputs": [],
   "source": []
  }
 ],
 "metadata": {
  "kernelspec": {
   "display_name": "Python 3",
   "language": "python",
   "name": "python3"
  },
  "language_info": {
   "codemirror_mode": {
    "name": "ipython",
    "version": 3
   },
   "file_extension": ".py",
   "mimetype": "text/x-python",
   "name": "python",
   "nbconvert_exporter": "python",
   "pygments_lexer": "ipython3",
   "version": "3.8.5"
  }
 },
 "nbformat": 4,
 "nbformat_minor": 4
}
