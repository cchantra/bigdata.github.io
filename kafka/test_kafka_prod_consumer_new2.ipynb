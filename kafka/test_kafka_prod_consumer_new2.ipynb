{
 "cells": [
  {
   "cell_type": "markdown",
   "metadata": {
    "id": "JI3d1Jrw6tnA"
   },
   "source": [
    "Prerequisite:\n",
    "You have to run test_kafka_producer.ipynb\n",
    "first before running this notebook."
   ]
  },
  {
   "cell_type": "code",
   "execution_count": 67,
   "metadata": {
    "executionInfo": {
     "elapsed": 44,
     "status": "ok",
     "timestamp": 1663937836182,
     "user": {
      "displayName": "chantana chantrapornchai",
      "userId": "13841202697933863578"
     },
     "user_tz": -420
    },
    "id": "1XHTZil82_ah"
   },
   "outputs": [],
   "source": [
    "import json\n",
    "from time import sleep\n",
    "\n",
    "from bs4 import BeautifulSoup"
   ]
  },
  {
   "cell_type": "code",
   "execution_count": 68,
   "metadata": {
    "executionInfo": {
     "elapsed": 20,
     "status": "ok",
     "timestamp": 1663937836361,
     "user": {
      "displayName": "chantana chantrapornchai",
      "userId": "13841202697933863578"
     },
     "user_tz": -420
    },
    "id": "cCb0Hl2F2_aq"
   },
   "outputs": [],
   "source": [
    "\n",
    "from kafka import KafkaConsumer, KafkaProducer"
   ]
  },
  {
   "cell_type": "markdown",
   "metadata": {
    "id": "5e-gun_g2_as"
   },
   "source": [
    "First it will consume data from raw_recipes topic, parse and transform data into JSON and then will publish it in parsed_recipes topic. Below is the code that will fetch HTML data from raw_recipes topic, parse and then feed into parsed_recipes topic."
   ]
  },
  {
   "cell_type": "code",
   "execution_count": 70,
   "metadata": {
    "executionInfo": {
     "elapsed": 19,
     "status": "ok",
     "timestamp": 1663937840903,
     "user": {
      "displayName": "chantana chantrapornchai",
      "userId": "13841202697933863578"
     },
     "user_tz": -420
    },
    "id": "KFjLc1oG2_aw"
   },
   "outputs": [],
   "source": [
    "def publish_message(producer_instance, topic_name, key, value):\n",
    "    try:\n",
    "        key_bytes =  bytes(key, encoding='utf-8') \n",
    "        value_bytes =json.dumps(value).encode('utf-8') # bytes(value, encoding='utf-8') \n",
    "        print(value_bytes)\n",
    "        producer_instance.send(topic_name, key=key_bytes, value=value_bytes)\n",
    "        producer_instance.flush()\n",
    "        print('Message published successfully (producer).')\n",
    "    except Exception as ex:\n",
    "        print('Exception in publishing message')\n",
    "        print(str(ex))\n",
    "\n",
    "\n",
    "def connect_kafka_producer():\n",
    "    _producer = None\n",
    "    try:\n",
    "        _producer = KafkaProducer(bootstrap_servers=['localhost:9092'], api_version=(0, 10))\n",
    "    except Exception as ex:\n",
    "        print('Exception while connecting Kafka')\n",
    "        print(str(ex))\n",
    "    finally:\n",
    "        return _producer\n",
    "\n",
    "\n",
    " "
   ]
  },
  {
   "cell_type": "code",
   "execution_count": 71,
   "metadata": {},
   "outputs": [],
   "source": [
    "\n",
    "\n",
    "def parse_nutrition_facts(htmldoc):\n",
    "    \"\"\"Extract nutrition facts from an AllRecipes page and return as dictionary.\"\"\"\n",
    "    headers = {\n",
    "        'User-Agent': 'Mozilla/5.0 (Windows NT 10.0; Win64; x64) AppleWebKit/537.36 (KHTML, like Gecko) Chrome/91.0.4472.124 Safari/537.36'\n",
    "    }\n",
    "    \n",
    " \n",
    " \n",
    "    soup = BeautifulSoup(htmldoc, 'html.parser')\n",
    "    #print(htmldoc)\n",
    "    title = soup.title.string if soup.title else \"No title found\"\n",
    "    tables = soup.find_all('table',class_=\"mm-recipes-nutrition-facts-summary__table\")\n",
    "    nutrition = {}\n",
    "    # Extract rows from each table\n",
    "    for i, table in enumerate(tables, 1):\n",
    "         \n",
    "        rows = table.find_all('tr')  # Get all rows in the table\n",
    "        \n",
    "        for row in rows:\n",
    "            # Extract headers (th) or data (td)\n",
    "            cells = row.find_all(['th', 'td'])\n",
    "            row_data = [cell.get_text(strip=True) for cell in cells]\n",
    "            #print(row_data)\n",
    "            row_data[0] = row_data[0].replace(\"g\",\"\")\n",
    "            nutrition['title'] = title\n",
    "            nutrition[row_data[1]] =   int(row_data[0])\n",
    "            \n",
    "            \n",
    "    \n",
    "    return nutrition\n",
    "\n",
    "         \n",
    " \n",
    " "
   ]
  },
  {
   "cell_type": "code",
   "execution_count": 72,
   "metadata": {
    "colab": {
     "base_uri": "https://localhost:8080/"
    },
    "executionInfo": {
     "elapsed": 10575,
     "status": "ok",
     "timestamp": 1663939121022,
     "user": {
      "displayName": "chantana chantrapornchai",
      "userId": "13841202697933863578"
     },
     "user_tz": -420
    },
    "id": "Se-3ZJiS2_a0",
    "outputId": "7ab70953-3c43-492e-d56d-8819ee69b0d3"
   },
   "outputs": [
    {
     "name": "stdout",
     "output_type": "stream",
     "text": [
      "Running Consumer..\n",
      "{'title': 'Thai Chopped Chicken Bean Salad Recipe', 'Calories': 341, 'Fat': 20, 'Carbs': 26, 'Protein': 17}\n",
      "{'title': 'Thai Peanut Butter Ramen Recipe', 'Calories': 503, 'Fat': 27, 'Carbs': 57, 'Protein': 15}\n",
      "{'title': 'Turkey Tom Kha Gai', 'Calories': 441, 'Fat': 27, 'Carbs': 13, 'Protein': 39}\n",
      "{'title': 'Thai Chopped Chicken Bean Salad Recipe', 'Calories': 341, 'Fat': 20, 'Carbs': 26, 'Protein': 17}\n",
      "{'title': 'Thai Peanut Butter Ramen Recipe', 'Calories': 503, 'Fat': 27, 'Carbs': 57, 'Protein': 15}\n",
      "{'title': 'Turkey Tom Kha Gai', 'Calories': 441, 'Fat': 27, 'Carbs': 13, 'Protein': 39}\n",
      "{'title': 'Thai Chopped Chicken Bean Salad Recipe', 'Calories': 341, 'Fat': 20, 'Carbs': 26, 'Protein': 17}\n",
      "{'title': 'Thai Peanut Butter Ramen Recipe', 'Calories': 503, 'Fat': 27, 'Carbs': 57, 'Protein': 15}\n",
      "{'title': 'Turkey Tom Kha Gai', 'Calories': 441, 'Fat': 27, 'Carbs': 13, 'Protein': 39}\n",
      "{'title': 'Thai Chopped Chicken Bean Salad Recipe', 'Calories': 341, 'Fat': 20, 'Carbs': 26, 'Protein': 17}\n",
      "{'title': 'Thai Peanut Butter Ramen Recipe', 'Calories': 503, 'Fat': 27, 'Carbs': 57, 'Protein': 15}\n",
      "{'title': 'Turkey Tom Kha Gai', 'Calories': 441, 'Fat': 27, 'Carbs': 13, 'Protein': 39}\n",
      "Publishing records..\n",
      "{'title': 'Thai Chopped Chicken Bean Salad Recipe', 'Calories': 341, 'Fat': 20, 'Carbs': 26, 'Protein': 17}\n",
      "b'{\"title\": \"Thai Chopped Chicken Bean Salad Recipe\", \"Calories\": 341, \"Fat\": 20, \"Carbs\": 26, \"Protein\": 17}'\n",
      "Message published successfully (producer).\n",
      "{'title': 'Thai Peanut Butter Ramen Recipe', 'Calories': 503, 'Fat': 27, 'Carbs': 57, 'Protein': 15}\n",
      "b'{\"title\": \"Thai Peanut Butter Ramen Recipe\", \"Calories\": 503, \"Fat\": 27, \"Carbs\": 57, \"Protein\": 15}'\n",
      "Message published successfully (producer).\n",
      "{'title': 'Turkey Tom Kha Gai', 'Calories': 441, 'Fat': 27, 'Carbs': 13, 'Protein': 39}\n",
      "b'{\"title\": \"Turkey Tom Kha Gai\", \"Calories\": 441, \"Fat\": 27, \"Carbs\": 13, \"Protein\": 39}'\n",
      "Message published successfully (producer).\n",
      "{'title': 'Thai Chopped Chicken Bean Salad Recipe', 'Calories': 341, 'Fat': 20, 'Carbs': 26, 'Protein': 17}\n",
      "b'{\"title\": \"Thai Chopped Chicken Bean Salad Recipe\", \"Calories\": 341, \"Fat\": 20, \"Carbs\": 26, \"Protein\": 17}'\n",
      "Message published successfully (producer).\n",
      "{'title': 'Thai Peanut Butter Ramen Recipe', 'Calories': 503, 'Fat': 27, 'Carbs': 57, 'Protein': 15}\n",
      "b'{\"title\": \"Thai Peanut Butter Ramen Recipe\", \"Calories\": 503, \"Fat\": 27, \"Carbs\": 57, \"Protein\": 15}'\n",
      "Message published successfully (producer).\n",
      "{'title': 'Turkey Tom Kha Gai', 'Calories': 441, 'Fat': 27, 'Carbs': 13, 'Protein': 39}\n",
      "b'{\"title\": \"Turkey Tom Kha Gai\", \"Calories\": 441, \"Fat\": 27, \"Carbs\": 13, \"Protein\": 39}'\n",
      "Message published successfully (producer).\n",
      "{'title': 'Thai Chopped Chicken Bean Salad Recipe', 'Calories': 341, 'Fat': 20, 'Carbs': 26, 'Protein': 17}\n",
      "b'{\"title\": \"Thai Chopped Chicken Bean Salad Recipe\", \"Calories\": 341, \"Fat\": 20, \"Carbs\": 26, \"Protein\": 17}'\n",
      "Message published successfully (producer).\n",
      "{'title': 'Thai Peanut Butter Ramen Recipe', 'Calories': 503, 'Fat': 27, 'Carbs': 57, 'Protein': 15}\n",
      "b'{\"title\": \"Thai Peanut Butter Ramen Recipe\", \"Calories\": 503, \"Fat\": 27, \"Carbs\": 57, \"Protein\": 15}'\n",
      "Message published successfully (producer).\n",
      "{'title': 'Turkey Tom Kha Gai', 'Calories': 441, 'Fat': 27, 'Carbs': 13, 'Protein': 39}\n",
      "b'{\"title\": \"Turkey Tom Kha Gai\", \"Calories\": 441, \"Fat\": 27, \"Carbs\": 13, \"Protein\": 39}'\n",
      "Message published successfully (producer).\n",
      "{'title': 'Thai Chopped Chicken Bean Salad Recipe', 'Calories': 341, 'Fat': 20, 'Carbs': 26, 'Protein': 17}\n",
      "b'{\"title\": \"Thai Chopped Chicken Bean Salad Recipe\", \"Calories\": 341, \"Fat\": 20, \"Carbs\": 26, \"Protein\": 17}'\n",
      "Message published successfully (producer).\n",
      "{'title': 'Thai Peanut Butter Ramen Recipe', 'Calories': 503, 'Fat': 27, 'Carbs': 57, 'Protein': 15}\n",
      "b'{\"title\": \"Thai Peanut Butter Ramen Recipe\", \"Calories\": 503, \"Fat\": 27, \"Carbs\": 57, \"Protein\": 15}'\n",
      "Message published successfully (producer).\n",
      "{'title': 'Turkey Tom Kha Gai', 'Calories': 441, 'Fat': 27, 'Carbs': 13, 'Protein': 39}\n",
      "b'{\"title\": \"Turkey Tom Kha Gai\", \"Calories\": 441, \"Fat\": 27, \"Carbs\": 13, \"Protein\": 39}'\n",
      "Message published successfully (producer).\n"
     ]
    }
   ],
   "source": [
    "if __name__ == '__main__':\n",
    "    print('Running Consumer..')\n",
    "    parsed_records = []\n",
    "    topic_name = 'raw_recipes'\n",
    "    parsed_topic_name = 'parsed_recipes'\n",
    "\n",
    "    consumer = KafkaConsumer(topic_name, auto_offset_reset='earliest',\n",
    "                             bootstrap_servers=['localhost:9092'], api_version=(0, 10), consumer_timeout_ms=1000)\n",
    "    for msg in consumer:\n",
    "        html = msg.value\n",
    "        result =  parse_nutrition_facts(html)\n",
    "        print (result)\n",
    "        parsed_records.append(result)\n",
    "    consumer.close()\n",
    "    sleep(5)\n",
    "\n",
    "    if len(parsed_records) > 0:\n",
    "        print('Publishing records..')\n",
    "        producer = connect_kafka_producer()\n",
    "        for rec in parsed_records:\n",
    "            print(rec)\n",
    "            publish_message(producer, parsed_topic_name, 'parsed', rec)"
   ]
  },
  {
   "cell_type": "markdown",
   "metadata": {
    "id": "aF9sogfp2_a4"
   },
   "source": [
    "you may delete buffer topic:\n",
    "\n",
    "bin/kafka-topics.sh --zookeeper localhost:2181 --delete --topic parsed_recipes\n"
   ]
  },
  {
   "cell_type": "code",
   "execution_count": 73,
   "metadata": {
    "colab": {
     "base_uri": "https://localhost:8080/"
    },
    "executionInfo": {
     "elapsed": 25230,
     "status": "ok",
     "timestamp": 1663862335775,
     "user": {
      "displayName": "chantana chantrapornchai",
      "userId": "13841202697933863578"
     },
     "user_tz": -420
    },
    "id": "ztvtWy0m2_a5",
    "outputId": "1dd9d927-7f4d-432c-840c-a7354c313871"
   },
   "outputs": [
    {
     "name": "stdout",
     "output_type": "stream",
     "text": [
      "{'title': 'Thai Chopped Chicken Bean Salad Recipe', 'Calories': 341, 'Fat': 20, 'Carbs': 26, 'Protein': 17}\n",
      "341\n",
      "2 {'title': 'Thai Chopped Chicken Bean Salad Recipe', 'Calories': 341, 'Fat': 20, 'Carbs': 26, 'Protein': 17}\n",
      "Alert: Thai Chopped Chicken Bean Salad Recipe calories count is 341\n",
      "{'title': 'Thai Peanut Butter Ramen Recipe', 'Calories': 503, 'Fat': 27, 'Carbs': 57, 'Protein': 15}\n",
      "503\n",
      "2 {'title': 'Thai Peanut Butter Ramen Recipe', 'Calories': 503, 'Fat': 27, 'Carbs': 57, 'Protein': 15}\n",
      "Alert: Thai Peanut Butter Ramen Recipe calories count is 503\n",
      "{'title': 'Turkey Tom Kha Gai', 'Calories': 441, 'Fat': 27, 'Carbs': 13, 'Protein': 39}\n",
      "441\n",
      "2 {'title': 'Turkey Tom Kha Gai', 'Calories': 441, 'Fat': 27, 'Carbs': 13, 'Protein': 39}\n",
      "Alert: Turkey Tom Kha Gai calories count is 441\n",
      "{'title': 'Thai Chopped Chicken Bean Salad Recipe', 'Calories': 341, 'Fat': 20, 'Carbs': 26, 'Protein': 17}\n",
      "341\n",
      "2 {'title': 'Thai Chopped Chicken Bean Salad Recipe', 'Calories': 341, 'Fat': 20, 'Carbs': 26, 'Protein': 17}\n",
      "Alert: Thai Chopped Chicken Bean Salad Recipe calories count is 341\n",
      "{'title': 'Thai Peanut Butter Ramen Recipe', 'Calories': 503, 'Fat': 27, 'Carbs': 57, 'Protein': 15}\n",
      "503\n",
      "2 {'title': 'Thai Peanut Butter Ramen Recipe', 'Calories': 503, 'Fat': 27, 'Carbs': 57, 'Protein': 15}\n",
      "Alert: Thai Peanut Butter Ramen Recipe calories count is 503\n",
      "{'title': 'Turkey Tom Kha Gai', 'Calories': 441, 'Fat': 27, 'Carbs': 13, 'Protein': 39}\n",
      "441\n",
      "2 {'title': 'Turkey Tom Kha Gai', 'Calories': 441, 'Fat': 27, 'Carbs': 13, 'Protein': 39}\n",
      "Alert: Turkey Tom Kha Gai calories count is 441\n",
      "{'title': 'Thai Chopped Chicken Bean Salad Recipe', 'Calories': 341, 'Fat': 20, 'Carbs': 26, 'Protein': 17}\n",
      "341\n",
      "2 {'title': 'Thai Chopped Chicken Bean Salad Recipe', 'Calories': 341, 'Fat': 20, 'Carbs': 26, 'Protein': 17}\n",
      "Alert: Thai Chopped Chicken Bean Salad Recipe calories count is 341\n",
      "{'title': 'Thai Peanut Butter Ramen Recipe', 'Calories': 503, 'Fat': 27, 'Carbs': 57, 'Protein': 15}\n",
      "503\n",
      "2 {'title': 'Thai Peanut Butter Ramen Recipe', 'Calories': 503, 'Fat': 27, 'Carbs': 57, 'Protein': 15}\n",
      "Alert: Thai Peanut Butter Ramen Recipe calories count is 503\n",
      "{'title': 'Turkey Tom Kha Gai', 'Calories': 441, 'Fat': 27, 'Carbs': 13, 'Protein': 39}\n",
      "441\n",
      "2 {'title': 'Turkey Tom Kha Gai', 'Calories': 441, 'Fat': 27, 'Carbs': 13, 'Protein': 39}\n",
      "Alert: Turkey Tom Kha Gai calories count is 441\n",
      "{'title': 'Thai Chopped Chicken Bean Salad Recipe', 'Calories': 341, 'Fat': 20, 'Carbs': 26, 'Protein': 17}\n",
      "341\n",
      "2 {'title': 'Thai Chopped Chicken Bean Salad Recipe', 'Calories': 341, 'Fat': 20, 'Carbs': 26, 'Protein': 17}\n",
      "Alert: Thai Chopped Chicken Bean Salad Recipe calories count is 341\n",
      "{'title': 'Thai Peanut Butter Ramen Recipe', 'Calories': 503, 'Fat': 27, 'Carbs': 57, 'Protein': 15}\n",
      "503\n",
      "2 {'title': 'Thai Peanut Butter Ramen Recipe', 'Calories': 503, 'Fat': 27, 'Carbs': 57, 'Protein': 15}\n",
      "Alert: Thai Peanut Butter Ramen Recipe calories count is 503\n",
      "{'title': 'Turkey Tom Kha Gai', 'Calories': 441, 'Fat': 27, 'Carbs': 13, 'Protein': 39}\n",
      "441\n",
      "2 {'title': 'Turkey Tom Kha Gai', 'Calories': 441, 'Fat': 27, 'Carbs': 13, 'Protein': 39}\n",
      "Alert: Turkey Tom Kha Gai calories count is 441\n"
     ]
    }
   ],
   "source": [
    "import json\n",
    "from time import sleep\n",
    "\n",
    "from kafka import KafkaConsumer\n",
    "\n",
    "if __name__ == '__main__':\n",
    "    parsed_topic_name = 'parsed_recipes'\n",
    "    # Notify if a recipe has more than 200 calories\n",
    "    calories_threshold = 200\n",
    "\n",
    "    consumer = KafkaConsumer(parsed_topic_name, auto_offset_reset='earliest',\n",
    "                             bootstrap_servers=['localhost:9092'], api_version=(0, 10), consumer_timeout_ms=1000)\n",
    "    for msg in consumer:\n",
    "        record = json.loads(msg.value)\n",
    "        print(record)\n",
    "        print(record['Calories'])\n",
    "        if not ('Calories' in record) :\n",
    "            continue\n",
    "         \n",
    "            \n",
    "        print('2',record)\n",
    "        calories = record['Calories']\n",
    "        title = record['title']\n",
    "\n",
    "        if calories > calories_threshold:\n",
    "            print('Alert: {} calories count is {}'.format(title, calories))\n",
    "        sleep(3)\n",
    "\n",
    "    if consumer is not None:\n",
    "        consumer.close()"
   ]
  },
  {
   "cell_type": "code",
   "execution_count": null,
   "metadata": {
    "id": "GDluUWOA2_a7"
   },
   "outputs": [],
   "source": []
  }
 ],
 "metadata": {
  "colab": {
   "provenance": []
  },
  "kernelspec": {
   "display_name": "Python 3 (ipykernel)",
   "language": "python",
   "name": "python3"
  },
  "language_info": {
   "codemirror_mode": {
    "name": "ipython",
    "version": 3
   },
   "file_extension": ".py",
   "mimetype": "text/x-python",
   "name": "python",
   "nbconvert_exporter": "python",
   "pygments_lexer": "ipython3",
   "version": "3.8.5"
  }
 },
 "nbformat": 4,
 "nbformat_minor": 4
}
